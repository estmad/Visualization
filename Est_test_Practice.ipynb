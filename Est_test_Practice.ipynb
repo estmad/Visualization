{
  "nbformat": 4,
  "nbformat_minor": 0,
  "metadata": {
    "colab": {
      "name": "Est_test_Practice.ipynb",
      "provenance": [],
      "collapsed_sections": []
    },
    "kernelspec": {
      "name": "python3",
      "display_name": "Python 3"
    }
  },
  "cells": [
    {
      "cell_type": "markdown",
      "metadata": {
        "id": "sA140EFM2ETf"
      },
      "source": [
        "## Practice, practise, practise!\n",
        "\n",
        "This is a guided exercise. You can add your own stuff, but you need to make sure you follow the guidelines. \n",
        "\n",
        "Please complete it by yourself and share your script with me. \n",
        "\n",
        "Enjoy!"
      ]
    },
    {
      "cell_type": "code",
      "metadata": {
        "id": "cyD5wlWi2CNL",
        "colab": {
          "base_uri": "https://localhost:8080/"
        },
        "outputId": "98114bdc-e3fd-49ef-aecd-69ae9d4416a8"
      },
      "source": [
        "# Write some code that takes in input my name, my surname, and how many dogs I have. \n",
        "# At the end of the code there has to be a message \"Hello, ___ (name) ___ (surname), it's nice of you to have ___ (#dogs)!\" . Fill the ___ and remove the parenthesis in the real thing\n",
        "name = input(\"Please write your name \")\n",
        "surname = input(\"Please write your surname \")\n",
        "dogs_number = input(\"Please write how many dogs are you \")\n",
        "print(\"Hello, \" + name + \" \" + surname + \", it's nice of you to have \" + dogs_number + \" dogs!\")"
      ],
      "execution_count": null,
      "outputs": [
        {
          "output_type": "stream",
          "text": [
            "Please write your name Esteban\n",
            "Please write your surname Bravo\n",
            "Please write how many dogs are you 13\n",
            "Hello, Esteban Bravo, it's nice of you to have 13 dogs!\n"
          ],
          "name": "stdout"
        }
      ]
    },
    {
      "cell_type": "code",
      "metadata": {
        "id": "uubnozYJBsHM",
        "colab": {
          "base_uri": "https://localhost:8080/"
        },
        "outputId": "79e68156-f8c9-40fd-9e8a-2e64c95e8df6"
      },
      "source": [
        "# turn all that code into a function with no input variable and the following return string \n",
        "# \"Hello, ___ (name) ___ (surname), it's nice of you to have ___ (#dogs)!\"\n",
        "def gather_info ():\n",
        "  name = input(\"Please write your name \")\n",
        "  surname = input(\"Please write your surname \")\n",
        "  dogs_number = input(\"Please write how many dogs are you \")\n",
        "  return \"Hello, \" + name + \" \" + surname + \", it's nice of you to have \" + str(dogs_number) + \" dogs!\"\n",
        "  \n",
        "print(gather_info())"
      ],
      "execution_count": null,
      "outputs": [
        {
          "output_type": "stream",
          "text": [
            "Please write your name Andrés\n",
            "Please write your surname Ovalle\n",
            "Please write how many dogs are you 1112\n",
            "Hello, Andrés Ovalle, it's nice of you to have 1112 dogs!\n"
          ],
          "name": "stdout"
        }
      ]
    },
    {
      "cell_type": "code",
      "metadata": {
        "colab": {
          "base_uri": "https://localhost:8080/"
        },
        "id": "5rPRkgMDntvr",
        "outputId": "a171f087-e76c-422f-9487-6798f1dab2a0"
      },
      "source": [
        "# for the previous function, add some code to make sure the name and surname are always one word with all letters and only the first character is capital. The number of dogs should also be int. \r\n",
        "# don't change the one before, write a new function in this box.\r\n",
        "\r\n",
        "def gather_manip_info():\r\n",
        "  name = input(\"Please write your name \")\r\n",
        "  surname = input(\"Please write your surname \")\r\n",
        "  dogs_number = input(\"Please write how many dogs are you \")\r\n",
        "  name_only = \"\"\r\n",
        "  surname_only = \"\"\r\n",
        "  for s in name:\r\n",
        "    if s.isalpha():\r\n",
        "      name_only += s\r\n",
        "  for s in surname:\r\n",
        "    if s.isalpha():\r\n",
        "      surname_only += s\r\n",
        "      name_surname = name_only.lower().capitalize() + \" \" + surname_only.lower().capitalize()\r\n",
        "  return \"Hello, \" + name_surname + \", it's nice of you to have \" + str(dogs_number) + \" dogs!\"\r\n",
        "print(gather_manip_info())"
      ],
      "execution_count": null,
      "outputs": [
        {
          "output_type": "stream",
          "text": [
            "Please write your name est EB1an2 4 &\n",
            "Please write your surname bra 7% 3 vo\n",
            "Please write how many dogs are you 33\n",
            "Hello, Esteban Bravo, it's nice of you to have 33 dogs!\n"
          ],
          "name": "stdout"
        }
      ]
    },
    {
      "cell_type": "code",
      "metadata": {
        "id": "1KKICWGfrFyd"
      },
      "source": [
        "# create three different lists: name_list, surname_list, n_dog_list.\r\n",
        "# change the function in a way that all the info are added to these three different lists.\r\n",
        "# use a for loop in a way that the function can run 5 times without always having to execute. Fill the lists with 5 different entries.\r\n",
        "\r\n",
        "def gather_manip_info():\r\n",
        "  name_list = []\r\n",
        "  surname_list = []\r\n",
        "  n_dogs_list = []\r\n",
        "  name = input(\"Please write your name \")\r\n",
        "  surname = input(\"Please write your surname \")\r\n",
        "  dogs_number = input(\"Please write how many dogs are you \")\r\n",
        "  name_only = \"\"\r\n",
        "  surname_only = \"\"\r\n",
        "  for s in name:\r\n",
        "    if s.isalpha():\r\n",
        "      name_only += s\r\n",
        "  for s in surname:\r\n",
        "    if s.isalpha():\r\n",
        "      surname_only += s\r\n",
        "      name_final = name_only.lower().capitalize()\r\n",
        "      surname_final = surname_only.lower().capitalize()\r\n",
        "  name_list += [name_final]\r\n",
        "  surname_list += [surname_final]\r\n",
        "  n_dogs_list += [dogs_number]\r\n",
        "  print(\"Hello, \" + name_final + \" \" + surname_final + \", it's nice of you to have \" + str(dogs_number) + \" dogs!\") \r\n",
        "  return name_list, surname_list, n_dogs_list\r\n",
        "for n in range(5):\r\n",
        "  print(gather_manip_info())\r\n"
      ],
      "execution_count": null,
      "outputs": []
    },
    {
      "cell_type": "code",
      "metadata": {
        "id": "_4x7BPrn4fUu",
        "colab": {
          "base_uri": "https://localhost:8080/"
        },
        "outputId": "b42f5b37-b4d8-4b1f-f424-998094e07125"
      },
      "source": [
        "\n",
        "mia_lista = [\"natalia\", \"cristina\", \"esteba\", \"esteban\"]\n",
        "#lst = []\n",
        "#for nome in mia_lista:\n",
        "#  lst += [nome.lower().capitalize()]\n",
        "#lst = [nome.lower().capitalize() for nome in mia_lista]\n",
        "#print(lst)\n",
        "#swapcase_list = [nome.swapcase() for nome in lst]\n",
        "#print(swapcase_list)\n",
        "#lista_filtrata = [nome.lower().capitalize() for nome in mia_lista if nome [0] == \"n\"]\n",
        "#print(lista_filtrata)\n",
        "lista_filtrata = [\"AhAhAh tu non ci sei :)\" if nome [0] == \"e\" else nome.lower().capitalize() for nome in mia_lista if nome [-1] == \"n\"]\n",
        "print(lista_filtrata)"
      ],
      "execution_count": null,
      "outputs": [
        {
          "output_type": "stream",
          "text": [
            "['AhAhAh tu non ci sei :)']\n"
          ],
          "name": "stdout"
        }
      ]
    },
    {
      "cell_type": "code",
      "metadata": {
        "id": "I9YWsZBe3Xvq"
      },
      "source": [
        "# use the now full name_list, surname_list, n_dog_list. Make a new list that has one string for surname+name (with appropriate spaces) by using list comprehension.\r\n",
        "\r\n",
        "def gather_manip_info():\r\n",
        "  name_list = []\r\n",
        "  surname_list = []\r\n",
        "  n_dogs_list = []\r\n",
        "  name = input(\"Please write your name \")\r\n",
        "  surname = input(\"Please write your surname \")\r\n",
        "  dogs_number = input(\"Please write how many dogs are you \")\r\n",
        "  name_only = \"\"\r\n",
        "  surname_only = \"\"\r\n",
        "  for s in name:\r\n",
        "    if s.isalpha():\r\n",
        "      name_only += s\r\n",
        "  for s in surname:\r\n",
        "    if s.isalpha():\r\n",
        "      surname_only += s\r\n",
        "  name_final = name_only.lower().capitalize()\r\n",
        "  surname_final = surname_only.lower().capitalize()\r\n",
        "  name_list += [name_final]\r\n",
        "  surname_list += [surname_final]\r\n",
        "  n_dogs_list += [dogs_number]\r\n",
        " # print(\"Hello, \" + name_final + \" \" + surname_final + \", it's nice of you to have \" + str(dogs_number) + \" dogs!\") \r\n",
        "  fullname_list = list(zip(name_list, surname_list, n_dogs_list))\r\n",
        "  return [name + \" \" + surname + \" \" + dogs  fullname_list \r\n",
        "print(gather_manip_info())\r\n"
      ],
      "execution_count": null,
      "outputs": []
    },
    {
      "cell_type": "code",
      "metadata": {
        "colab": {
          "base_uri": "https://localhost:8080/"
        },
        "id": "IUuHfPKtSIXJ",
        "outputId": "f03b17d9-64e6-4d2c-91e4-ce64bbdcaecc"
      },
      "source": [
        "# use the now full name_list, surname_list, n_dog_list. Make a new list that has one string for surname+name (with appropriate spaces) by using list comprehension.\r\n",
        "def gather_manip_info():\r\n",
        "  name_list = []\r\n",
        "  surname_list = []\r\n",
        "  n_dogs_list = []\r\n",
        "  name = input(\"Please write your name \")\r\n",
        "  surname = input(\"Please write your surname \")\r\n",
        "  dogs_number = input(\"Please write how many dogs are you \")\r\n",
        "  name_only = \"\"\r\n",
        "  surname_only = \"\"\r\n",
        "  for s in name:\r\n",
        "    if s.isalpha():\r\n",
        "      name_only += s\r\n",
        "  for s in surname:\r\n",
        "    if s.isalpha():\r\n",
        "      surname_only += s\r\n",
        "  name_final = name_only.lower().capitalize()\r\n",
        "  surname_final = surname_only.lower().capitalize()\r\n",
        "  name_list += [name_final]\r\n",
        "  surname_list += [surname_final]\r\n",
        "  n_dogs_list += [dogs_number]\r\n",
        " # print(\"Hello, \" + name_final + \" \" + surname_final + \", it's nice of you to have \" + str(dogs_number) + \" dogs!\") \r\n",
        "  fullname_list = list(zip(name_list, surname_list, n_dogs_list))\r\n",
        "  return [name + \" \" + surname + \" \" + dogs for name, surname, dogs in fullname_list]\r\n",
        "print(gather_manip_info())"
      ],
      "execution_count": null,
      "outputs": [
        {
          "output_type": "stream",
          "text": [
            "Please write your name est4ban\n",
            "Please write your surname brA6to\n",
            "Please write how many dogs are you 5\n",
            "['Estban Brato 5']\n"
          ],
          "name": "stdout"
        }
      ]
    },
    {
      "cell_type": "markdown",
      "metadata": {
        "id": "qnSSMGFy6egH"
      },
      "source": [
        "## Additional Practice:\n",
        "\n",
        "- https://www.hackerrank.com/challenges/python-string-split-and-join/problem\n",
        "- https://www.hackerrank.com/challenges/python-mutations/problem\n",
        "- https://www.hackerrank.com/challenges/find-a-string/problem\n",
        "- https://www.hackerrank.com/challenges/text-alignment/problem\n",
        "- https://www.hackerrank.com/challenges/python-lists/problem\n",
        "- https://www.hackerrank.com/challenges/python-string-formatting/problem\n",
        "- https://www.hackerrank.com/challenges/merge-the-tools/problem"
      ]
    },
    {
      "cell_type": "code",
      "metadata": {
        "id": "RYa9oGQy7ZTg"
      },
      "source": [
        ""
      ],
      "execution_count": null,
      "outputs": []
    }
  ]
}